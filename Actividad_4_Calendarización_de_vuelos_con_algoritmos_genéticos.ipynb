{
  "nbformat": 4,
  "nbformat_minor": 0,
  "metadata": {
    "colab": {
      "provenance": [],
      "include_colab_link": true
    },
    "kernelspec": {
      "name": "python3",
      "display_name": "Python 3"
    },
    "language_info": {
      "name": "python"
    }
  },
  "cells": [
    {
      "cell_type": "markdown",
      "metadata": {
        "id": "view-in-github",
        "colab_type": "text"
      },
      "source": [
        "<a href=\"https://colab.research.google.com/github/Mussot16/HeliBaja/blob/master/Actividad_4_Calendarizaci%C3%B3n_de_vuelos_con_algoritmos_gen%C3%A9ticos.ipynb\" target=\"_parent\"><img src=\"https://colab.research.google.com/assets/colab-badge.svg\" alt=\"Open In Colab\"/></a>"
      ]
    },
    {
      "cell_type": "code",
      "source": [],
      "metadata": {
        "id": "oQKXCUooAJFS"
      },
      "execution_count": null,
      "outputs": []
    },
    {
      "cell_type": "markdown",
      "source": [
        "# Bio-inspired Artificial Intelligence Algorithms - Genetic Algorithms"
      ],
      "metadata": {
        "id": "g6KfL1oa8BHM"
      }
    },
    {
      "cell_type": "markdown",
      "source": [
        "# Representation of the problem - flight schedule"
      ],
      "metadata": {
        "id": "yfzxdDWY8K-x"
      }
    },
    {
      "cell_type": "code",
      "source": [
        "import time\n",
        "import random\n",
        "import math\n",
        "import sys"
      ],
      "metadata": {
        "id": "vJnVKVEEjck4"
      },
      "execution_count": null,
      "outputs": []
    },
    {
      "cell_type": "code",
      "source": [
        "people = [('Lisbon', 'LIS'),\n",
        "          ('Madrid', 'MAD'),\n",
        "          ('Paris', 'CDG'),\n",
        "          ('Dublin', 'DUB'),\n",
        "          ('Brussels', 'BRU'),\n",
        "          ('London', 'LHR')]"
      ],
      "metadata": {
        "id": "B-UMr6XUjmox"
      },
      "execution_count": null,
      "outputs": []
    },
    {
      "cell_type": "code",
      "source": [
        "people[0]"
      ],
      "metadata": {
        "colab": {
          "base_uri": "https://localhost:8080/"
        },
        "id": "ak3srDnFkDyq",
        "outputId": "9bf88e4b-8113-4f96-df60-86a670b723df"
      },
      "execution_count": null,
      "outputs": [
        {
          "output_type": "execute_result",
          "data": {
            "text/plain": [
              "('Lisbon', 'LIS')"
            ]
          },
          "metadata": {},
          "execution_count": 3
        }
      ]
    },
    {
      "cell_type": "code",
      "source": [
        "destiny = 'FCO' # Rome"
      ],
      "metadata": {
        "id": "pffvEddvkSqJ"
      },
      "execution_count": null,
      "outputs": []
    },
    {
      "cell_type": "code",
      "source": [
        "flights = {('BRU', 'FCO'): ['15:44', '18:55', 382]}"
      ],
      "metadata": {
        "id": "LOZXvhbSl8Bm"
      },
      "execution_count": null,
      "outputs": []
    },
    {
      "cell_type": "code",
      "source": [
        "flights"
      ],
      "metadata": {
        "colab": {
          "base_uri": "https://localhost:8080/"
        },
        "id": "w-HI2eaCmYn2",
        "outputId": "1c2f782e-679e-4dbc-c305-fd0bb3a87cec"
      },
      "execution_count": null,
      "outputs": [
        {
          "output_type": "execute_result",
          "data": {
            "text/plain": [
              "{('BRU', 'FCO'): ['15:44', '18:55', 382]}"
            ]
          },
          "metadata": {},
          "execution_count": 6
        }
      ]
    },
    {
      "cell_type": "code",
      "source": [
        "flights[('BRU', 'FCO')]"
      ],
      "metadata": {
        "colab": {
          "base_uri": "https://localhost:8080/"
        },
        "id": "HkfypkT7mdy2",
        "outputId": "ee8dfeb0-37e4-4471-eafe-a3aeee69979e"
      },
      "execution_count": null,
      "outputs": [
        {
          "output_type": "execute_result",
          "data": {
            "text/plain": [
              "['15:44', '18:55', 382]"
            ]
          },
          "metadata": {},
          "execution_count": 7
        }
      ]
    },
    {
      "cell_type": "code",
      "source": [
        "flights[('BRU', 'FCO')][0], flights[('BRU', 'FCO')][1], flights[('BRU', 'FCO')][2]"
      ],
      "metadata": {
        "colab": {
          "base_uri": "https://localhost:8080/"
        },
        "id": "zOprM_pvm5oE",
        "outputId": "3e5ed992-9e7b-48d0-9d9c-c4925dba48ff"
      },
      "execution_count": null,
      "outputs": [
        {
          "output_type": "execute_result",
          "data": {
            "text/plain": [
              "('15:44', '18:55', 382)"
            ]
          },
          "metadata": {},
          "execution_count": 8
        }
      ]
    },
    {
      "cell_type": "code",
      "source": [
        "flights = {}\n",
        "for row in open('/content/flights.txt'):\n",
        "  #print(row)\n",
        "  #print(row.split(','))\n",
        "  origin, destiny, departure, arrival, price = row.split(',')\n",
        "  #print(origin, destiny, departure, arrival, price)\n",
        "  flights.setdefault((origin, destiny), [])\n",
        "  flights[(origin, destiny)].append((departure, arrival, int(price)))"
      ],
      "metadata": {
        "id": "ApAlmTrRnGVl"
      },
      "execution_count": null,
      "outputs": []
    },
    {
      "cell_type": "code",
      "source": [
        "flights"
      ],
      "metadata": {
        "colab": {
          "base_uri": "https://localhost:8080/"
        },
        "id": "mraMxzY_oGz4",
        "outputId": "97c3d550-2f7b-4db3-954c-e4ddbd8247ce"
      },
      "execution_count": null,
      "outputs": [
        {
          "output_type": "execute_result",
          "data": {
            "text/plain": [
              "{('FCO', 'LIS'): [('6:19', '8:13', 239),\n",
              "  ('8:04', '10:59', 136),\n",
              "  ('9:31', '11:43', 210),\n",
              "  ('11:07', '13:24', 171),\n",
              "  ('12:31', '14:02', 234),\n",
              "  ('14:05', '15:47', 226),\n",
              "  ('15:07', '17:21', 129),\n",
              "  ('16:35', '18:56', 144),\n",
              "  ('18:25', '20:34', 205),\n",
              "  ('20:05', '21:44', 172)],\n",
              " ('LIS', 'FCO'): [('6:11', '8:31', 249),\n",
              "  ('7:39', '10:24', 219),\n",
              "  ('9:15', '12:03', 99),\n",
              "  ('11:08', '13:07', 175),\n",
              "  ('12:18', '14:56', 172),\n",
              "  ('13:37', '15:08', 250),\n",
              "  ('15:03', '16:42', 135),\n",
              "  ('16:51', '19:09', 147),\n",
              "  ('18:12', '20:17', 242),\n",
              "  ('20:05', '22:06', 261)],\n",
              " ('FCO', 'MAD'): [('6:03', '8:43', 219),\n",
              "  ('7:50', '10:08', 164),\n",
              "  ('9:11', '10:42', 172),\n",
              "  ('10:33', '13:11', 132),\n",
              "  ('12:08', '14:47', 231),\n",
              "  ('14:19', '17:09', 190),\n",
              "  ('15:04', '17:23', 189),\n",
              "  ('17:06', '20:00', 95),\n",
              "  ('18:33', '20:22', 143),\n",
              "  ('19:32', '21:25', 160)],\n",
              " ('MAD', 'FCO'): [('6:05', '8:32', 174),\n",
              "  ('8:25', '10:34', 157),\n",
              "  ('9:42', '11:32', 169),\n",
              "  ('11:01', '12:39', 260),\n",
              "  ('12:44', '14:17', 134),\n",
              "  ('14:22', '16:32', 126),\n",
              "  ('15:58', '18:40', 173),\n",
              "  ('16:43', '19:00', 246),\n",
              "  ('18:48', '21:45', 246),\n",
              "  ('19:50', '22:24', 269)],\n",
              " ('FCO', 'CDG'): [('6:33', '9:14', 172),\n",
              "  ('8:23', '11:07', 143),\n",
              "  ('9:25', '12:46', 295),\n",
              "  ('11:08', '14:38', 262),\n",
              "  ('12:37', '15:05', 170),\n",
              "  ('14:08', '16:09', 232),\n",
              "  ('15:23', '18:49', 150),\n",
              "  ('16:50', '19:26', 304),\n",
              "  ('18:07', '21:30', 355),\n",
              "  ('20:27', '23:42', 169)],\n",
              " ('CDG', 'FCO'): [('6:25', '9:30', 335),\n",
              "  ('7:34', '9:40', 324),\n",
              "  ('9:15', '12:29', 225),\n",
              "  ('11:28', '14:40', 248),\n",
              "  ('12:05', '15:30', 330),\n",
              "  ('14:01', '17:24', 338),\n",
              "  ('15:34', '18:11', 326),\n",
              "  ('17:07', '20:04', 291),\n",
              "  ('18:23', '21:35', 134),\n",
              "  ('19:53', '22:21', 173)],\n",
              " ('FCO', 'DUB'): [('6:39', '8:09', 86),\n",
              "  ('8:23', '10:28', 149),\n",
              "  ('9:58', '11:18', 130),\n",
              "  ('10:33', '12:03', 74),\n",
              "  ('12:08', '14:05', 142),\n",
              "  ('13:39', '15:30', 74),\n",
              "  ('15:25', '16:58', 62),\n",
              "  ('17:03', '18:03', 103),\n",
              "  ('18:24', '20:49', 124),\n",
              "  ('19:58', '21:23', 142)],\n",
              " ('DUB', 'FCO'): [('6:17', '8:26', 89),\n",
              "  ('8:04', '10:11', 95),\n",
              "  ('9:45', '11:50', 172),\n",
              "  ('11:16', '13:29', 83),\n",
              "  ('12:34', '15:02', 109),\n",
              "  ('13:40', '15:37', 138),\n",
              "  ('15:27', '17:18', 151),\n",
              "  ('17:11', '18:30', 108),\n",
              "  ('18:34', '19:36', 136),\n",
              "  ('20:17', '22:22', 102)],\n",
              " ('FCO', 'BRU'): [('6:09', '9:49', 414),\n",
              "  ('7:57', '11:15', 347),\n",
              "  ('9:49', '13:51', 229),\n",
              "  ('10:51', '14:16', 256),\n",
              "  ('12:20', '16:34', 500),\n",
              "  ('14:20', '17:32', 332),\n",
              "  ('15:49', '20:10', 497),\n",
              "  ('17:14', '20:59', 277),\n",
              "  ('18:44', '22:42', 351),\n",
              "  ('19:57', '23:15', 512)],\n",
              " ('BRU', 'FCO'): [('6:12', '10:22', 230),\n",
              "  ('7:53', '11:37', 433),\n",
              "  ('9:08', '12:12', 364),\n",
              "  ('10:30', '14:57', 290),\n",
              "  ('12:19', '15:25', 342),\n",
              "  ('13:54', '18:02', 294),\n",
              "  ('15:44', '18:55', 382),\n",
              "  ('16:52', '20:48', 448),\n",
              "  ('18:26', '21:29', 464),\n",
              "  ('20:07', '23:27', 473)],\n",
              " ('FCO', 'LHR'): [('6:58', '9:01', 238),\n",
              "  ('8:19', '11:16', 122),\n",
              "  ('9:58', '12:56', 249),\n",
              "  ('10:32', '13:16', 139),\n",
              "  ('12:01', '13:41', 267),\n",
              "  ('13:37', '15:33', 142),\n",
              "  ('15:50', '18:45', 243),\n",
              "  ('16:33', '18:15', 253),\n",
              "  ('18:17', '21:04', 259),\n",
              "  ('19:46', '21:45', 214)],\n",
              " ('LHR', 'FCO'): [('6:08', '8:06', 224),\n",
              "  ('8:27', '10:45', 139),\n",
              "  ('9:15', '12:14', 247),\n",
              "  ('10:53', '13:36', 189),\n",
              "  ('12:08', '14:59', 149),\n",
              "  ('13:40', '15:38', 137),\n",
              "  ('15:23', '17:25', 232),\n",
              "  ('17:08', '19:08', 262),\n",
              "  ('18:35', '20:28', 204),\n",
              "  ('20:30', '23:11', 114)]}"
            ]
          },
          "metadata": {},
          "execution_count": 11
        }
      ]
    },
    {
      "cell_type": "code",
      "source": [
        "flights[('LIS', 'FCO')]"
      ],
      "metadata": {
        "colab": {
          "base_uri": "https://localhost:8080/"
        },
        "id": "VKJNi6bBouN1",
        "outputId": "0fc01c03-1c4c-4e9b-b544-6e57f62d6ed5"
      },
      "execution_count": null,
      "outputs": [
        {
          "output_type": "execute_result",
          "data": {
            "text/plain": [
              "[('6:11', '8:31', 249),\n",
              " ('7:39', '10:24', 219),\n",
              " ('9:15', '12:03', 99),\n",
              " ('11:08', '13:07', 175),\n",
              " ('12:18', '14:56', 172),\n",
              " ('13:37', '15:08', 250),\n",
              " ('15:03', '16:42', 135),\n",
              " ('16:51', '19:09', 147),\n",
              " ('18:12', '20:17', 242),\n",
              " ('20:05', '22:06', 261)]"
            ]
          },
          "metadata": {},
          "execution_count": 12
        }
      ]
    },
    {
      "cell_type": "code",
      "source": [
        "flights[('FCO', 'LIS')]"
      ],
      "metadata": {
        "colab": {
          "base_uri": "https://localhost:8080/"
        },
        "id": "CFZS4slRo2ff",
        "outputId": "bab2dbdf-e1ac-42f7-f203-c854fdf2a03c"
      },
      "execution_count": null,
      "outputs": [
        {
          "output_type": "execute_result",
          "data": {
            "text/plain": [
              "[('6:19', '8:13', 239),\n",
              " ('8:04', '10:59', 136),\n",
              " ('9:31', '11:43', 210),\n",
              " ('11:07', '13:24', 171),\n",
              " ('12:31', '14:02', 234),\n",
              " ('14:05', '15:47', 226),\n",
              " ('15:07', '17:21', 129),\n",
              " ('16:35', '18:56', 144),\n",
              " ('18:25', '20:34', 205),\n",
              " ('20:05', '21:44', 172)]"
            ]
          },
          "metadata": {},
          "execution_count": 13
        }
      ]
    },
    {
      "cell_type": "code",
      "source": [
        "flights[('MAD', 'FCO')]"
      ],
      "metadata": {
        "colab": {
          "base_uri": "https://localhost:8080/"
        },
        "id": "NEUdDXq1qNWS",
        "outputId": "fa444684-f1ba-40ca-cfe2-dca9634a7ec1"
      },
      "execution_count": null,
      "outputs": [
        {
          "output_type": "execute_result",
          "data": {
            "text/plain": [
              "[('6:05', '8:32', 174),\n",
              " ('8:25', '10:34', 157),\n",
              " ('9:42', '11:32', 169),\n",
              " ('11:01', '12:39', 260),\n",
              " ('12:44', '14:17', 134),\n",
              " ('14:22', '16:32', 126),\n",
              " ('15:58', '18:40', 173),\n",
              " ('16:43', '19:00', 246),\n",
              " ('18:48', '21:45', 246),\n",
              " ('19:50', '22:24', 269)]"
            ]
          },
          "metadata": {},
          "execution_count": 14
        }
      ]
    },
    {
      "cell_type": "code",
      "source": [
        "flights[('FCO', 'MAD')]"
      ],
      "metadata": {
        "colab": {
          "base_uri": "https://localhost:8080/"
        },
        "id": "UwYaOdZ1qXWm",
        "outputId": "726725c0-f9c5-4584-e070-51bd49fca912"
      },
      "execution_count": null,
      "outputs": [
        {
          "output_type": "execute_result",
          "data": {
            "text/plain": [
              "[('6:03', '8:43', 219),\n",
              " ('7:50', '10:08', 164),\n",
              " ('9:11', '10:42', 172),\n",
              " ('10:33', '13:11', 132),\n",
              " ('12:08', '14:47', 231),\n",
              " ('14:19', '17:09', 190),\n",
              " ('15:04', '17:23', 189),\n",
              " ('17:06', '20:00', 95),\n",
              " ('18:33', '20:22', 143),\n",
              " ('19:32', '21:25', 160)]"
            ]
          },
          "metadata": {},
          "execution_count": 15
        }
      ]
    },
    {
      "cell_type": "code",
      "source": [
        "# [1,4, 3,2, 7,3, 6,3, 2,4, 5,3]"
      ],
      "metadata": {
        "id": "Caqbs-AIpnwI"
      },
      "execution_count": null,
      "outputs": []
    },
    {
      "cell_type": "code",
      "source": [
        "len([1,4, 3,2, 7,3, 6,3, 2,4, 5,3]) // 2"
      ],
      "metadata": {
        "colab": {
          "base_uri": "https://localhost:8080/"
        },
        "id": "bCK2xuzDrP0b",
        "outputId": "92c1f979-d70f-4d6b-f350-345c9f5e34b2"
      },
      "execution_count": null,
      "outputs": [
        {
          "output_type": "execute_result",
          "data": {
            "text/plain": [
              "6"
            ]
          },
          "metadata": {},
          "execution_count": 16
        }
      ]
    },
    {
      "cell_type": "code",
      "source": [
        "people"
      ],
      "metadata": {
        "colab": {
          "base_uri": "https://localhost:8080/"
        },
        "id": "pppsLLbOrpOo",
        "outputId": "52daaa7f-798d-47a2-9eb3-6258195a552c"
      },
      "execution_count": null,
      "outputs": [
        {
          "output_type": "execute_result",
          "data": {
            "text/plain": [
              "[('Lisbon', 'LIS'),\n",
              " ('Madrid', 'MAD'),\n",
              " ('Paris', 'CDG'),\n",
              " ('Dublin', 'DUB'),\n",
              " ('Brussels', 'BRU'),\n",
              " ('London', 'LHR')]"
            ]
          },
          "metadata": {},
          "execution_count": 18
        }
      ]
    },
    {
      "cell_type": "code",
      "source": [
        "def print_schedule(schedule):\n",
        "  flight_id = -1\n",
        "  total_price = 0\n",
        "  for i in range(len(schedule) // 2):\n",
        "    name = people[i][0]\n",
        "    #print(name)\n",
        "    origin = people[i][1]\n",
        "    #print(origin)\n",
        "    flight_id += 1\n",
        "    going = flights[(origin, destiny)][schedule[flight_id]]\n",
        "    #print('First flight' + str(going))\n",
        "    total_price += going[2]\n",
        "    flight_id += 1\n",
        "    returning = flights[(destiny, origin)][schedule[flight_id]]\n",
        "    #print('Returning flight' + str(returning))\n",
        "    total_price += returning[2]\n",
        "    print('%10s%10s %5s-%5s U$%3s %5s-%5s U$%3s' % (name, origin, going[0], going[1], going[2],\n",
        "                                                    returning[0], returning[1], returning[2]))\n",
        "  print('Total price: ', total_price)"
      ],
      "metadata": {
        "id": "J5gKmkjbq3Q8"
      },
      "execution_count": null,
      "outputs": []
    },
    {
      "cell_type": "code",
      "source": [
        "print_schedule([7,3, 3,2, 7,3, 6,3, 2,4, 5,9])"
      ],
      "metadata": {
        "colab": {
          "base_uri": "https://localhost:8080/"
        },
        "id": "o4WdgqU5rysv",
        "outputId": "625cb0be-b1c9-472e-c7c4-9d78dbc23033"
      },
      "execution_count": null,
      "outputs": [
        {
          "output_type": "stream",
          "name": "stdout",
          "text": [
            "    Lisbon       LIS 16:51-19:09 U$147 11:07-13:24 U$171\n",
            "    Madrid       MAD 11:01-12:39 U$260  9:11-10:42 U$172\n",
            "     Paris       CDG 17:07-20:04 U$291 11:08-14:38 U$262\n",
            "    Dublin       DUB 15:27-17:18 U$151 10:33-12:03 U$ 74\n",
            "  Brussels       BRU  9:08-12:12 U$364 12:20-16:34 U$500\n",
            "    London       LHR 13:40-15:38 U$137 19:46-21:45 U$214\n",
            "Total price:  2743\n"
          ]
        }
      ]
    },
    {
      "cell_type": "code",
      "source": [
        "t = time.strptime('7:39', '%H:%M')"
      ],
      "metadata": {
        "id": "Z6HxC1c4vyi3"
      },
      "execution_count": null,
      "outputs": []
    },
    {
      "cell_type": "code",
      "source": [
        "t"
      ],
      "metadata": {
        "colab": {
          "base_uri": "https://localhost:8080/"
        },
        "id": "6j3vHgOVwCZW",
        "outputId": "a6768549-d85c-486d-b84b-0a56cd035c70"
      },
      "execution_count": null,
      "outputs": [
        {
          "output_type": "execute_result",
          "data": {
            "text/plain": [
              "time.struct_time(tm_year=1900, tm_mon=1, tm_mday=1, tm_hour=7, tm_min=39, tm_sec=0, tm_wday=0, tm_yday=1, tm_isdst=-1)"
            ]
          },
          "metadata": {},
          "execution_count": 29
        }
      ]
    },
    {
      "cell_type": "code",
      "source": [
        "t[3], t[4], t[3] * 60 + t[4]"
      ],
      "metadata": {
        "colab": {
          "base_uri": "https://localhost:8080/"
        },
        "id": "2aqiHISzwTUi",
        "outputId": "b763060b-ddee-45cd-f60b-b0786b009875"
      },
      "execution_count": null,
      "outputs": [
        {
          "output_type": "execute_result",
          "data": {
            "text/plain": [
              "(7, 39, 459)"
            ]
          },
          "metadata": {},
          "execution_count": 30
        }
      ]
    },
    {
      "cell_type": "code",
      "source": [
        "def get_minutes(hour):\n",
        "  t = time.strptime(hour, '%H:%M')\n",
        "  minutes = t[3] * 60 + t[4]\n",
        "  return minutes"
      ],
      "metadata": {
        "id": "WjShx0Duwwvx"
      },
      "execution_count": null,
      "outputs": []
    },
    {
      "cell_type": "code",
      "source": [
        "get_minutes('7:39'), get_minutes('10:32'), get_minutes('08:10')"
      ],
      "metadata": {
        "colab": {
          "base_uri": "https://localhost:8080/"
        },
        "id": "FA68s0-4w8Sv",
        "outputId": "68495dac-f40d-456f-970e-9946a9cee584"
      },
      "execution_count": null,
      "outputs": [
        {
          "output_type": "execute_result",
          "data": {
            "text/plain": [
              "(459, 632, 490)"
            ]
          },
          "metadata": {},
          "execution_count": 32
        }
      ]
    },
    {
      "cell_type": "markdown",
      "source": [
        "# Fitness function"
      ],
      "metadata": {
        "id": "O-sxvdN08XTI"
      }
    },
    {
      "cell_type": "code",
      "source": [
        "get_minutes('23:59')"
      ],
      "metadata": {
        "colab": {
          "base_uri": "https://localhost:8080/"
        },
        "id": "W0E5grcCQaZV",
        "outputId": "0f27a8ad-21df-40f9-f16c-743d9d90abc3"
      },
      "execution_count": null,
      "outputs": [
        {
          "output_type": "execute_result",
          "data": {
            "text/plain": [
              "1439"
            ]
          },
          "metadata": {},
          "execution_count": 33
        }
      ]
    },
    {
      "cell_type": "code",
      "source": [
        "get_minutes('00:00')"
      ],
      "metadata": {
        "colab": {
          "base_uri": "https://localhost:8080/"
        },
        "id": "6i4buSIgQkLo",
        "outputId": "b43461fb-5b98-4cd2-894e-5817d2a03acd"
      },
      "execution_count": null,
      "outputs": [
        {
          "output_type": "execute_result",
          "data": {
            "text/plain": [
              "0"
            ]
          },
          "metadata": {},
          "execution_count": 34
        }
      ]
    },
    {
      "cell_type": "code",
      "source": [
        "def fitness_function(schedule):\n",
        "  total_price = 0\n",
        "  last_arrival = 0\n",
        "  first_departure = 1439\n",
        "\n",
        "  flight_id = -1\n",
        "  for i in range(len(schedule) // 2):\n",
        "    origin = people[i][1]\n",
        "    flight_id += 1\n",
        "    going = flights[(origin, destiny)][schedule[flight_id]]\n",
        "    flight_id += 1\n",
        "    returning = flights[(destiny, origin)][schedule[flight_id]]\n",
        "\n",
        "    total_price += going[2]\n",
        "    total_price += returning[2]\n",
        "\n",
        "    if last_arrival < get_minutes(going[1]):\n",
        "      last_arrival = get_minutes(going[1])\n",
        "    if first_departure > get_minutes(returning[0]):\n",
        "      first_departure = get_minutes(returning[0])\n",
        "\n",
        "  #print(total_price)\n",
        "  #print(last_arrival)\n",
        "  #print(first_departure)\n",
        "\n",
        "  total_wait = 0\n",
        "  flight_id = -1\n",
        "  for i in range(len(schedule) // 2):\n",
        "    origin = people[i][1]\n",
        "    flight_id += 1\n",
        "    going = flights[(origin, destiny)][schedule[flight_id]]\n",
        "    flight_id += 1\n",
        "    returning = flights[(destiny, origin)][schedule[flight_id]]\n",
        "\n",
        "    total_wait += last_arrival - get_minutes(going[1])\n",
        "    total_wait += get_minutes(returning[0]) - first_departure\n",
        "\n",
        "  return total_wait + total_price"
      ],
      "metadata": {
        "id": "1rdilSUIPXQE"
      },
      "execution_count": null,
      "outputs": []
    },
    {
      "cell_type": "code",
      "source": [
        "fitness_function([1,4, 3,1, 8,3, 6,3, 2,4, 5,3])"
      ],
      "metadata": {
        "colab": {
          "base_uri": "https://localhost:8080/"
        },
        "id": "brOvubO-SXc9",
        "outputId": "bfc7aefd-0efe-4670-f513-73105648557d"
      },
      "execution_count": null,
      "outputs": [
        {
          "output_type": "execute_result",
          "data": {
            "text/plain": [
              "6096"
            ]
          },
          "metadata": {},
          "execution_count": 40
        }
      ]
    },
    {
      "cell_type": "code",
      "source": [
        "get_minutes('21:35')"
      ],
      "metadata": {
        "colab": {
          "base_uri": "https://localhost:8080/"
        },
        "id": "MWYkH7qVSqkP",
        "outputId": "6ee4d602-b05f-4163-870f-2afa29faed7b"
      },
      "execution_count": null,
      "outputs": [
        {
          "output_type": "execute_result",
          "data": {
            "text/plain": [
              "1295"
            ]
          },
          "metadata": {},
          "execution_count": 41
        }
      ]
    },
    {
      "cell_type": "code",
      "source": [
        "get_minutes('7:50')"
      ],
      "metadata": {
        "colab": {
          "base_uri": "https://localhost:8080/"
        },
        "id": "3yrp55w8SxqF",
        "outputId": "a54d614f-0ceb-46e2-8c6f-f3e1d356e1cc"
      },
      "execution_count": null,
      "outputs": [
        {
          "output_type": "execute_result",
          "data": {
            "text/plain": [
              "470"
            ]
          },
          "metadata": {},
          "execution_count": 42
        }
      ]
    },
    {
      "cell_type": "code",
      "source": [
        "print_schedule([1,4, 3,1, 8,3, 6,3, 2,4, 5,3])"
      ],
      "metadata": {
        "colab": {
          "base_uri": "https://localhost:8080/"
        },
        "id": "5n8beOkeShVm",
        "outputId": "6f7d31e9-d031-4153-9acb-2947299ae170"
      },
      "execution_count": null,
      "outputs": [
        {
          "output_type": "stream",
          "name": "stdout",
          "text": [
            "    Lisbon       LIS  7:39-10:24 U$219 12:31-14:02 U$234\n",
            "    Madrid       MAD 11:01-12:39 U$260  7:50-10:08 U$164\n",
            "     Paris       CDG 18:23-21:35 U$134 11:08-14:38 U$262\n",
            "    Dublin       DUB 15:27-17:18 U$151 10:33-12:03 U$ 74\n",
            "  Brussels       BRU  9:08-12:12 U$364 12:20-16:34 U$500\n",
            "    London       LHR 13:40-15:38 U$137 10:32-13:16 U$139\n",
            "Total price:  2638\n"
          ]
        }
      ]
    },
    {
      "cell_type": "code",
      "source": [
        "len(people)"
      ],
      "metadata": {
        "colab": {
          "base_uri": "https://localhost:8080/"
        },
        "id": "-B_Nln36WnW_",
        "outputId": "06e49ca2-24e7-4826-de51-f385a75264a9"
      },
      "execution_count": null,
      "outputs": [
        {
          "output_type": "execute_result",
          "data": {
            "text/plain": [
              "6"
            ]
          },
          "metadata": {},
          "execution_count": 44
        }
      ]
    },
    {
      "cell_type": "code",
      "source": [
        "domain = [(0, 9)] * (len(people) * 2)\n",
        "domain"
      ],
      "metadata": {
        "colab": {
          "base_uri": "https://localhost:8080/"
        },
        "id": "V-tmKapqWbm0",
        "outputId": "5d6b5361-a8a6-4358-fa04-980f91039331"
      },
      "execution_count": null,
      "outputs": [
        {
          "output_type": "execute_result",
          "data": {
            "text/plain": [
              "[(0, 9),\n",
              " (0, 9),\n",
              " (0, 9),\n",
              " (0, 9),\n",
              " (0, 9),\n",
              " (0, 9),\n",
              " (0, 9),\n",
              " (0, 9),\n",
              " (0, 9),\n",
              " (0, 9),\n",
              " (0, 9),\n",
              " (0, 9)]"
            ]
          },
          "metadata": {},
          "execution_count": 45
        }
      ]
    },
    {
      "cell_type": "markdown",
      "source": [
        "# Mutation"
      ],
      "metadata": {
        "id": "pDakgRDi8e_T"
      }
    },
    {
      "cell_type": "code",
      "source": [
        "len(domain) - 1"
      ],
      "metadata": {
        "colab": {
          "base_uri": "https://localhost:8080/"
        },
        "id": "o0eHd5PgYtdS",
        "outputId": "27453e7a-4734-4b6b-d06d-0d1128b465cf"
      },
      "execution_count": null,
      "outputs": [
        {
          "output_type": "execute_result",
          "data": {
            "text/plain": [
              "11"
            ]
          },
          "metadata": {},
          "execution_count": 46
        }
      ]
    },
    {
      "cell_type": "code",
      "source": [
        "random.randint(0, len(domain) - 1)"
      ],
      "metadata": {
        "colab": {
          "base_uri": "https://localhost:8080/"
        },
        "id": "ojhxQvSWY3Pe",
        "outputId": "47680ce0-b084-4176-dd98-c3a0a0e4f068"
      },
      "execution_count": null,
      "outputs": [
        {
          "output_type": "execute_result",
          "data": {
            "text/plain": [
              "10"
            ]
          },
          "metadata": {},
          "execution_count": 55
        }
      ]
    },
    {
      "cell_type": "code",
      "source": [
        "random.random() # 50%"
      ],
      "metadata": {
        "colab": {
          "base_uri": "https://localhost:8080/"
        },
        "id": "C81hwHHMZTD-",
        "outputId": "b118fdc7-6038-4817-97b8-77937f5a6df7"
      },
      "execution_count": null,
      "outputs": [
        {
          "output_type": "execute_result",
          "data": {
            "text/plain": [
              "0.1022884728711062"
            ]
          },
          "metadata": {},
          "execution_count": 54
        }
      ]
    },
    {
      "cell_type": "code",
      "source": [
        "def mutation(domain, schedule, prob):\n",
        "  gene = random.randint(0, len(domain) - 1)\n",
        "  mutant = schedule\n",
        "  if random.random() < prob: # 0.02, 0.05\n",
        "    if schedule[gene] != domain[gene][0]:\n",
        "      mutant = schedule[0:gene] + [schedule[gene] - 1] + schedule[gene + 1:]\n",
        "    else:\n",
        "      if schedule[gene] != domain[gene][1]:\n",
        "        mutant = schedule[0:gene] + [schedule[gene] + 1] + schedule[gene + 1:]\n",
        "  return mutant"
      ],
      "metadata": {
        "id": "q7Es_rogYPlp"
      },
      "execution_count": null,
      "outputs": []
    },
    {
      "cell_type": "code",
      "source": [
        "mutation(domain, [6, 7, 6, 7, 3, 9, 7, 7, 0, 7, 6, 7], 0.9)"
      ],
      "metadata": {
        "colab": {
          "base_uri": "https://localhost:8080/"
        },
        "id": "Zx-ibIMQbkv7",
        "outputId": "f889247d-3571-4fd9-e08b-a6dedead7ad3"
      },
      "execution_count": null,
      "outputs": [
        {
          "output_type": "stream",
          "name": "stdout",
          "text": [
            "GenIndex: 3\n",
            "gen a mutar:  7\n",
            "domain gen: 0\n"
          ]
        },
        {
          "output_type": "execute_result",
          "data": {
            "text/plain": [
              "[6, 7, 6, 6, 3, 9, 7, 7, 0, 7, 6, 7]"
            ]
          },
          "metadata": {},
          "execution_count": 100
        }
      ]
    },
    {
      "cell_type": "markdown",
      "source": [
        "# Crossover"
      ],
      "metadata": {
        "id": "dEH0j8yp8gQ5"
      }
    },
    {
      "cell_type": "code",
      "source": [
        "# [6, 7, 6, 7, 3, 9, 7, 7, 0, 7, 6, 7]\n",
        "len(domain)"
      ],
      "metadata": {
        "id": "MHe0aHxJd4Ha",
        "colab": {
          "base_uri": "https://localhost:8080/"
        },
        "outputId": "f8b888ed-1554-4907-ff83-42b907879928"
      },
      "execution_count": null,
      "outputs": [
        {
          "output_type": "execute_result",
          "data": {
            "text/plain": [
              "12"
            ]
          },
          "metadata": {},
          "execution_count": 58
        }
      ]
    },
    {
      "cell_type": "code",
      "source": [
        "random.randint(1, len(domain) - 2)"
      ],
      "metadata": {
        "colab": {
          "base_uri": "https://localhost:8080/"
        },
        "id": "u8RcczyPeFCp",
        "outputId": "a505cf42-3e23-4992-d246-630f938c33f2"
      },
      "execution_count": null,
      "outputs": [
        {
          "output_type": "execute_result",
          "data": {
            "text/plain": [
              "2"
            ]
          },
          "metadata": {},
          "execution_count": 80
        }
      ]
    },
    {
      "cell_type": "code",
      "source": [
        "def crossover(domain, individual1, individual2):\n",
        "  gene = random.randint(1, len(domain) - 2)\n",
        "  #print(gene)\n",
        "  return individual1[0:gene] + individual2[gene:]"
      ],
      "metadata": {
        "id": "P8onTmORdCWW"
      },
      "execution_count": null,
      "outputs": []
    },
    {
      "cell_type": "code",
      "source": [
        "s1 = [1,4, 3,2, 7,3, 6,3, 2,4, 5,3]\n",
        "s2 = [0,1, 2,5, 8,9, 2,3, 5,1, 0,6]"
      ],
      "metadata": {
        "id": "dmJ2kKCOeYTz"
      },
      "execution_count": null,
      "outputs": []
    },
    {
      "cell_type": "code",
      "source": [
        "crossover(domain, s1, s2)"
      ],
      "metadata": {
        "colab": {
          "base_uri": "https://localhost:8080/"
        },
        "id": "HjaYSK0qeaWM",
        "outputId": "76ad5745-2660-403b-80b7-b321fddb0236"
      },
      "execution_count": null,
      "outputs": [
        {
          "output_type": "execute_result",
          "data": {
            "text/plain": [
              "[1, 4, 2, 5, 8, 9, 2, 3, 5, 1, 0, 6]"
            ]
          },
          "metadata": {},
          "execution_count": 45
        }
      ]
    },
    {
      "cell_type": "markdown",
      "source": [
        "# Genetic algorithm"
      ],
      "metadata": {
        "id": "BP4Ahx0J8jI-"
      }
    },
    {
      "cell_type": "code",
      "source": [
        "domain"
      ],
      "metadata": {
        "colab": {
          "base_uri": "https://localhost:8080/"
        },
        "id": "fvWCA-SLjdO4",
        "outputId": "21aef2de-b62c-4f8e-e106-4f0a396415a2"
      },
      "execution_count": null,
      "outputs": [
        {
          "output_type": "execute_result",
          "data": {
            "text/plain": [
              "[(0, 9),\n",
              " (0, 9),\n",
              " (0, 9),\n",
              " (0, 9),\n",
              " (0, 9),\n",
              " (0, 9),\n",
              " (0, 9),\n",
              " (0, 9),\n",
              " (0, 9),\n",
              " (0, 9),\n",
              " (0, 9),\n",
              " (0, 9)]"
            ]
          },
          "metadata": {},
          "execution_count": 83
        }
      ]
    },
    {
      "cell_type": "code",
      "source": [
        "def genetic_algorithm(domain, fitness_function, population_size = 100, elitism = 0.2,\n",
        "                      number_of_generations = 500, mutation_probability = 0.05):\n",
        "  population = []\n",
        "  for i in range(population_size):\n",
        "    individual = [random.randint(domain[i][0], domain[i][1]) for i in range(len(domain))]\n",
        "    population.append(individual)\n",
        "  #  print('Population size', len(population))\n",
        "  #print(len(population))\n",
        "  number_elitism = int(elitism * population_size)\n",
        "  #  print('Elitism', number_elitism)\n",
        "\n",
        "  for i in range(number_of_generations):\n",
        "    costs = [(fitness_function(individual), individual) for individual in population]\n",
        "    #    print('Costs', costs)\n",
        "    costs.sort()\n",
        "    #    print('Costs ordered', costs)\n",
        "    ordered_individuals = [individual for (cost, individual) in costs]\n",
        "    #    print('Ordered individuals', ordered_individuals)\n",
        "    population = ordered_individuals[0:number_elitism]\n",
        "    while len(population) < population_size:\n",
        "      i1 = random.randint(0, number_elitism)\n",
        "      i2 = random.randint(0, number_elitism)\n",
        "      #      print(i1, i2, ordered_individuals[i1], ordered_individuals[i2])\n",
        "      new_individual = crossover(domain, ordered_individuals[i1], ordered_individuals[i2])\n",
        "      #      print(new_individual)\n",
        "      new_individual_mutation = mutation(domain, new_individual, mutation_probability)\n",
        "      #      print(new_individual_mutation)\n",
        "      population.append(new_individual_mutation)\n",
        "\n",
        "  #print('Population size', len(population))\n",
        "  #print(costs)\n",
        "  return costs[0][1]"
      ],
      "metadata": {
        "id": "x6JveBSviTtS"
      },
      "execution_count": null,
      "outputs": []
    },
    {
      "cell_type": "code",
      "source": [
        "solution = genetic_algorithm(domain, fitness_function, 100, 0.2, 500, 0.05)"
      ],
      "metadata": {
        "id": "nq7cQJrXkEml"
      },
      "execution_count": null,
      "outputs": []
    },
    {
      "cell_type": "code",
      "source": [
        "solution"
      ],
      "metadata": {
        "colab": {
          "base_uri": "https://localhost:8080/"
        },
        "id": "v49VJP7ku-m3",
        "outputId": "395137ac-30bd-4dca-fd01-f52e303f9a54"
      },
      "execution_count": null,
      "outputs": [
        {
          "output_type": "execute_result",
          "data": {
            "text/plain": [
              "[7, 1, 8, 1, 8, 1, 8, 3, 8, 1, 8, 3]"
            ]
          },
          "metadata": {},
          "execution_count": 111
        }
      ]
    },
    {
      "cell_type": "code",
      "source": [
        "fitness_function(solution)"
      ],
      "metadata": {
        "colab": {
          "base_uri": "https://localhost:8080/"
        },
        "id": "jesViyPzvBOj",
        "outputId": "e01b40a0-28fa-41de-d02f-23c1fd5f59f7"
      },
      "execution_count": null,
      "outputs": [
        {
          "output_type": "execute_result",
          "data": {
            "text/plain": [
              "3101"
            ]
          },
          "metadata": {},
          "execution_count": 112
        }
      ]
    },
    {
      "cell_type": "code",
      "source": [
        "print_schedule(solution)"
      ],
      "metadata": {
        "id": "m9OFlqbzvkKP",
        "outputId": "424516f8-dc8d-42b6-9447-63bfe7aa6cda",
        "colab": {
          "base_uri": "https://localhost:8080/"
        }
      },
      "execution_count": null,
      "outputs": [
        {
          "output_type": "stream",
          "name": "stdout",
          "text": [
            "    Lisbon       LIS 16:51-19:09 U$147  8:04-10:59 U$136\n",
            "    Madrid       MAD 18:48-21:45 U$246  7:50-10:08 U$164\n",
            "     Paris       CDG 18:23-21:35 U$134  8:23-11:07 U$143\n",
            "    Dublin       DUB 18:34-19:36 U$136 10:33-12:03 U$ 74\n",
            "  Brussels       BRU 18:26-21:29 U$464  7:57-11:15 U$347\n",
            "    London       LHR 18:35-20:28 U$204 10:32-13:16 U$139\n",
            "Total price:  2334\n"
          ]
        }
      ]
    }
  ]
}